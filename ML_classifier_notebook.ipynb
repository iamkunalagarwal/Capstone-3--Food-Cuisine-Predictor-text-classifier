{
 "cells": [
  {
   "cell_type": "markdown",
   "metadata": {},
   "source": [
    "# Import libraries"
   ]
  },
  {
   "cell_type": "code",
   "execution_count": 1,
   "metadata": {},
   "outputs": [],
   "source": [
    "import warnings\n",
    "warnings.filterwarnings('ignore')\n",
    "\n",
    "import pandas as pd, re\n",
    "from datetime import datetime\n",
    "from tqdm import tqdm\n",
    "import numpy as np\n",
    "import nltk\n",
    "from nltk.tokenize import word_tokenize\n",
    "from sklearn.model_selection import train_test_split\n",
    "\n",
    "from sklearn.feature_extraction.text import TfidfVectorizer\n",
    "from sklearn.metrics import accuracy_score, classification_report, confusion_matrix, precision_score, recall_score\n",
    "from sklearn.pipeline import Pipeline\n",
    "from sklearn.linear_model import SGDClassifier\n",
    "from sklearn.naive_bayes import MultinomialNB\n",
    "from sklearn.linear_model import LogisticRegression\n",
    "from sklearn.ensemble import RandomForestClassifier"
   ]
  },
  {
   "cell_type": "markdown",
   "metadata": {},
   "source": [
    "# Import Data Files"
   ]
  },
  {
   "cell_type": "code",
   "execution_count": 2,
   "metadata": {},
   "outputs": [
    {
     "name": "stdout",
     "output_type": "stream",
     "text": [
      "12964\n"
     ]
    },
    {
     "data": {
      "text/html": [
       "<div>\n",
       "<style scoped>\n",
       "    .dataframe tbody tr th:only-of-type {\n",
       "        vertical-align: middle;\n",
       "    }\n",
       "\n",
       "    .dataframe tbody tr th {\n",
       "        vertical-align: top;\n",
       "    }\n",
       "\n",
       "    .dataframe thead th {\n",
       "        text-align: right;\n",
       "    }\n",
       "</style>\n",
       "<table border=\"1\" class=\"dataframe\">\n",
       "  <thead>\n",
       "    <tr style=\"text-align: right;\">\n",
       "      <th></th>\n",
       "      <th>cuisineName</th>\n",
       "      <th>tagName</th>\n",
       "    </tr>\n",
       "  </thead>\n",
       "  <tbody>\n",
       "    <tr>\n",
       "      <th>0</th>\n",
       "      <td>American</td>\n",
       "      <td>pretzel</td>\n",
       "    </tr>\n",
       "    <tr>\n",
       "      <th>1</th>\n",
       "      <td>American</td>\n",
       "      <td>brisket</td>\n",
       "    </tr>\n",
       "    <tr>\n",
       "      <th>2</th>\n",
       "      <td>American</td>\n",
       "      <td>bagel</td>\n",
       "    </tr>\n",
       "    <tr>\n",
       "      <th>3</th>\n",
       "      <td>American</td>\n",
       "      <td>pretzels</td>\n",
       "    </tr>\n",
       "    <tr>\n",
       "      <th>4</th>\n",
       "      <td>American</td>\n",
       "      <td>american goulash</td>\n",
       "    </tr>\n",
       "  </tbody>\n",
       "</table>\n",
       "</div>"
      ],
      "text/plain": [
       "  cuisineName           tagName\n",
       "0    American           pretzel\n",
       "1    American           brisket\n",
       "2    American             bagel\n",
       "3    American          pretzels\n",
       "4    American  american goulash"
      ]
     },
     "execution_count": 2,
     "metadata": {},
     "output_type": "execute_result"
    }
   ],
   "source": [
    "ctags = pd.read_csv('Cuisine Corpus.csv')\n",
    "print(len(ctags))\n",
    "ctags.head()"
   ]
  },
  {
   "cell_type": "code",
   "execution_count": 3,
   "metadata": {},
   "outputs": [],
   "source": [
    "ctags = dict(ctags.groupby('cuisineName')['tagName'].apply(list))"
   ]
  },
  {
   "cell_type": "code",
   "execution_count": 4,
   "metadata": {},
   "outputs": [
    {
     "name": "stdout",
     "output_type": "stream",
     "text": [
      "Number of Rows:  537824\n"
     ]
    },
    {
     "data": {
      "text/html": [
       "<div>\n",
       "<style scoped>\n",
       "    .dataframe tbody tr th:only-of-type {\n",
       "        vertical-align: middle;\n",
       "    }\n",
       "\n",
       "    .dataframe tbody tr th {\n",
       "        vertical-align: top;\n",
       "    }\n",
       "\n",
       "    .dataframe thead th {\n",
       "        text-align: right;\n",
       "    }\n",
       "</style>\n",
       "<table border=\"1\" class=\"dataframe\">\n",
       "  <thead>\n",
       "    <tr style=\"text-align: right;\">\n",
       "      <th></th>\n",
       "      <th>name</th>\n",
       "      <th>description</th>\n",
       "    </tr>\n",
       "  </thead>\n",
       "  <tbody>\n",
       "    <tr>\n",
       "      <th>0</th>\n",
       "      <td>Mutton Shawarma In Samoli</td>\n",
       "      <td>NaN</td>\n",
       "    </tr>\n",
       "    <tr>\n",
       "      <th>1</th>\n",
       "      <td>Veg Shawarma</td>\n",
       "      <td>NaN</td>\n",
       "    </tr>\n",
       "    <tr>\n",
       "      <th>2</th>\n",
       "      <td>Chicken Shawarma With Salad In Rumali</td>\n",
       "      <td>NaN</td>\n",
       "    </tr>\n",
       "    <tr>\n",
       "      <th>3</th>\n",
       "      <td>Chicken Shawarma Without Salad In Rumali</td>\n",
       "      <td>NaN</td>\n",
       "    </tr>\n",
       "    <tr>\n",
       "      <th>4</th>\n",
       "      <td>Veg Clear Soup</td>\n",
       "      <td>NaN</td>\n",
       "    </tr>\n",
       "  </tbody>\n",
       "</table>\n",
       "</div>"
      ],
      "text/plain": [
       "                                       name description\n",
       "0                 Mutton Shawarma In Samoli         NaN\n",
       "1                              Veg Shawarma         NaN\n",
       "2     Chicken Shawarma With Salad In Rumali         NaN\n",
       "3  Chicken Shawarma Without Salad In Rumali         NaN\n",
       "4                            Veg Clear Soup         NaN"
      ]
     },
     "execution_count": 4,
     "metadata": {},
     "output_type": "execute_result"
    }
   ],
   "source": [
    "df = pd.read_csv('Menu Items.csv')\n",
    "print(\"Number of Rows: \", len(df))\n",
    "df.head()"
   ]
  },
  {
   "cell_type": "markdown",
   "metadata": {},
   "source": [
    "# Data Wrangling"
   ]
  },
  {
   "cell_type": "code",
   "execution_count": 5,
   "metadata": {},
   "outputs": [],
   "source": [
    "stop_words_str = '- Hot , Hot , 4 Pcs , Chefs Special , spl. , spl , special , pack , 6 Pieces , 1 Piece , 2 Pcs , Gravy , wet , dry,  spicy, Dry,  2 in 1 , Small , Big , 250 GM , 1000ML , 750ml , 250ml  , 500ml , non-vegetarian, non-vegetarien, vegetarian, vegetariens, non veg, with Butter , Full , Half, jumbo, Platter , Combo, combo, comb, com, box , singles, single, half, double, doubles, dbl,  6\", 7'', 7\", 8\", 9\",10\", 11\", 12\", 13\" , 14\", 15\", 16\", 17\", 18\", 19\", 20\", 21\", 22\", 23\", 24\", 25\", 26\", 27\", 28\", 29\" , 30\", boneless, bone-less , classic, jains, jain, -veg, 6pc, large, small, meal '\n",
    "stop_words_lst = stop_words_str.split(',')\n",
    "stop_words = [x.lower().strip() for x in stop_words_lst]"
   ]
  },
  {
   "cell_type": "code",
   "execution_count": 6,
   "metadata": {},
   "outputs": [],
   "source": [
    "def useCorpus(name):\n",
    "    \n",
    "    # convert to lower case\n",
    "    name = name.lower()\n",
    "    \n",
    "    orgname = name\n",
    "    \n",
    "    # remove special characters\n",
    "    name = re.sub(\"[\\(\\[].*?[\\)\\]]\", '', name).replace('-',' ').replace(\"'s\", '').strip()\n",
    "    \n",
    "    # remove stop words\n",
    "    namelist = name.split(' ')\n",
    "    for word in namelist:\n",
    "        if word in stop_words:\n",
    "            name = name.replace(word, '').strip()\n",
    "\n",
    "    # get first part of any combo item with '+' or 'with' in the name\n",
    "    name = name.split('+', 1)[0]\n",
    "    name = name.split('with', 1)[0]\n",
    "    name = name.strip()\n",
    "    \n",
    "    # check for null values\n",
    "    if len(name) == 0:\n",
    "        return np.nan\n",
    "    \n",
    "    # check for special case\n",
    "    cuisine = checkForSpecialCases(name)\n",
    "    if len(cuisine) > 0:\n",
    "        return cuisine\n",
    "    \n",
    "    # get cuisine tag by iterationg over the corpus and finding full name \n",
    "    for cuisine, tags in ctags.items():\n",
    "        if (name in tags) or (orgname in tags):\n",
    "            return cuisine\n",
    "    \n",
    "    # apply word_tokenize method from nltk to get a list of individual words in the name\n",
    "    tokname = word_tokenize(name)\n",
    "    \n",
    "    # get cuisine tag by iterationg over the corpus and finding last word\n",
    "    lastword = tokname[-1]\n",
    "    for cuisine, tags in ctags.items():\n",
    "        if lastword in tags :\n",
    "            return cuisine\n",
    "    \n",
    "    return np.nan"
   ]
  },
  {
   "cell_type": "code",
   "execution_count": 7,
   "metadata": {},
   "outputs": [],
   "source": [
    "def checkForSpecialCases(name):\n",
    "    tag = ''\n",
    "    if name.endswith('fried rice'):\n",
    "        tag = 'Fast Food'\n",
    "    elif name.endswith('ice cream'):\n",
    "        tag = 'Ice Cream'\n",
    "    elif name.endswith('cup cake'):\n",
    "        tag = 'Bakery'\n",
    "    elif name.endswith('paani poori') or name.endswith('pani poori'):\n",
    "        tag = 'Fast Food'\n",
    "    elif name.endswith('garlic bread'):\n",
    "        tag = 'Italian'\n",
    "    elif name == 'poori':\n",
    "        tag = 'South Indian'\n",
    "        \n",
    "    return tag"
   ]
  },
  {
   "cell_type": "markdown",
   "metadata": {},
   "source": [
    "### Get cuisine of each item using the scraped corpus saved in 'ctags' dictionary"
   ]
  },
  {
   "cell_type": "code",
   "execution_count": 8,
   "metadata": {},
   "outputs": [
    {
     "data": {
      "text/html": [
       "<div>\n",
       "<style scoped>\n",
       "    .dataframe tbody tr th:only-of-type {\n",
       "        vertical-align: middle;\n",
       "    }\n",
       "\n",
       "    .dataframe tbody tr th {\n",
       "        vertical-align: top;\n",
       "    }\n",
       "\n",
       "    .dataframe thead th {\n",
       "        text-align: right;\n",
       "    }\n",
       "</style>\n",
       "<table border=\"1\" class=\"dataframe\">\n",
       "  <thead>\n",
       "    <tr style=\"text-align: right;\">\n",
       "      <th></th>\n",
       "      <th>name</th>\n",
       "      <th>description</th>\n",
       "      <th>cuisine</th>\n",
       "    </tr>\n",
       "  </thead>\n",
       "  <tbody>\n",
       "    <tr>\n",
       "      <th>0</th>\n",
       "      <td>Mutton Shawarma In Samoli</td>\n",
       "      <td>NaN</td>\n",
       "      <td>Fast Food</td>\n",
       "    </tr>\n",
       "    <tr>\n",
       "      <th>1</th>\n",
       "      <td>Veg Shawarma</td>\n",
       "      <td>NaN</td>\n",
       "      <td>Fast Food</td>\n",
       "    </tr>\n",
       "    <tr>\n",
       "      <th>2</th>\n",
       "      <td>Chicken Shawarma With Salad In Rumali</td>\n",
       "      <td>NaN</td>\n",
       "      <td>Fast Food</td>\n",
       "    </tr>\n",
       "    <tr>\n",
       "      <th>3</th>\n",
       "      <td>Chicken Shawarma Without Salad In Rumali</td>\n",
       "      <td>NaN</td>\n",
       "      <td>Fast Food</td>\n",
       "    </tr>\n",
       "    <tr>\n",
       "      <th>4</th>\n",
       "      <td>Veg Clear Soup</td>\n",
       "      <td>NaN</td>\n",
       "      <td>Chinese</td>\n",
       "    </tr>\n",
       "  </tbody>\n",
       "</table>\n",
       "</div>"
      ],
      "text/plain": [
       "                                       name description    cuisine\n",
       "0                 Mutton Shawarma In Samoli         NaN  Fast Food\n",
       "1                              Veg Shawarma         NaN  Fast Food\n",
       "2     Chicken Shawarma With Salad In Rumali         NaN  Fast Food\n",
       "3  Chicken Shawarma Without Salad In Rumali         NaN  Fast Food\n",
       "4                            Veg Clear Soup         NaN    Chinese"
      ]
     },
     "execution_count": 8,
     "metadata": {},
     "output_type": "execute_result"
    }
   ],
   "source": [
    "df['cuisine'] = df['name'].apply(useCorpus)\n",
    "df.head()"
   ]
  },
  {
   "cell_type": "markdown",
   "metadata": {},
   "source": [
    "### Check for category imbalance"
   ]
  },
  {
   "cell_type": "code",
   "execution_count": 9,
   "metadata": {},
   "outputs": [
    {
     "data": {
      "text/plain": [
       "Fast Food       158352\n",
       "Beverages        88615\n",
       "North Indian     67904\n",
       "Chinese          56338\n",
       "South Indian     42486\n",
       "Biryani          30646\n",
       "Italian          22912\n",
       "Bakery           20791\n",
       "Desserts         17900\n",
       "Chicken          16862\n",
       "Ice Cream         8267\n",
       "Eggetarian        6751\n",
       "Name: cuisine, dtype: int64"
      ]
     },
     "execution_count": 9,
     "metadata": {},
     "output_type": "execute_result"
    }
   ],
   "source": [
    "df['cuisine'].value_counts()"
   ]
  },
  {
   "cell_type": "markdown",
   "metadata": {},
   "source": [
    "### The categories balance seems to be good enough to work with."
   ]
  },
  {
   "cell_type": "markdown",
   "metadata": {},
   "source": [
    "### We have our data ready for training a ML classifier model now!!"
   ]
  },
  {
   "cell_type": "markdown",
   "metadata": {},
   "source": [
    "# Text Classifier Modelling"
   ]
  },
  {
   "cell_type": "markdown",
   "metadata": {},
   "source": [
    "### Feature Engineering"
   ]
  },
  {
   "cell_type": "code",
   "execution_count": 10,
   "metadata": {},
   "outputs": [],
   "source": [
    "def extractBaseName(name):\n",
    "    # convert to lower case\n",
    "    name = name.lower()\n",
    "    \n",
    "    # remove special characters\n",
    "    name = name.replace('(',' ').replace(')',' ').replace('-', ' ').replace(\"'s\", '').replace('  ', ' ').strip()\n",
    "    \n",
    "    return name.strip()"
   ]
  },
  {
   "cell_type": "code",
   "execution_count": 11,
   "metadata": {},
   "outputs": [],
   "source": [
    "df['engineeredName'] = df['name'].apply(extractBaseName)"
   ]
  },
  {
   "cell_type": "code",
   "execution_count": 12,
   "metadata": {},
   "outputs": [
    {
     "data": {
      "text/html": [
       "<div>\n",
       "<style scoped>\n",
       "    .dataframe tbody tr th:only-of-type {\n",
       "        vertical-align: middle;\n",
       "    }\n",
       "\n",
       "    .dataframe tbody tr th {\n",
       "        vertical-align: top;\n",
       "    }\n",
       "\n",
       "    .dataframe thead th {\n",
       "        text-align: right;\n",
       "    }\n",
       "</style>\n",
       "<table border=\"1\" class=\"dataframe\">\n",
       "  <thead>\n",
       "    <tr style=\"text-align: right;\">\n",
       "      <th></th>\n",
       "      <th>name</th>\n",
       "      <th>description</th>\n",
       "      <th>cuisine</th>\n",
       "      <th>engineeredName</th>\n",
       "    </tr>\n",
       "  </thead>\n",
       "  <tbody>\n",
       "    <tr>\n",
       "      <th>0</th>\n",
       "      <td>Mutton Shawarma In Samoli</td>\n",
       "      <td>NaN</td>\n",
       "      <td>Fast Food</td>\n",
       "      <td>mutton shawarma in samoli</td>\n",
       "    </tr>\n",
       "    <tr>\n",
       "      <th>1</th>\n",
       "      <td>Veg Shawarma</td>\n",
       "      <td>NaN</td>\n",
       "      <td>Fast Food</td>\n",
       "      <td>veg shawarma</td>\n",
       "    </tr>\n",
       "    <tr>\n",
       "      <th>2</th>\n",
       "      <td>Chicken Shawarma With Salad In Rumali</td>\n",
       "      <td>NaN</td>\n",
       "      <td>Fast Food</td>\n",
       "      <td>chicken shawarma with salad in rumali</td>\n",
       "    </tr>\n",
       "    <tr>\n",
       "      <th>3</th>\n",
       "      <td>Chicken Shawarma Without Salad In Rumali</td>\n",
       "      <td>NaN</td>\n",
       "      <td>Fast Food</td>\n",
       "      <td>chicken shawarma without salad in rumali</td>\n",
       "    </tr>\n",
       "    <tr>\n",
       "      <th>4</th>\n",
       "      <td>Veg Clear Soup</td>\n",
       "      <td>NaN</td>\n",
       "      <td>Chinese</td>\n",
       "      <td>veg clear soup</td>\n",
       "    </tr>\n",
       "  </tbody>\n",
       "</table>\n",
       "</div>"
      ],
      "text/plain": [
       "                                       name description    cuisine  \\\n",
       "0                 Mutton Shawarma In Samoli         NaN  Fast Food   \n",
       "1                              Veg Shawarma         NaN  Fast Food   \n",
       "2     Chicken Shawarma With Salad In Rumali         NaN  Fast Food   \n",
       "3  Chicken Shawarma Without Salad In Rumali         NaN  Fast Food   \n",
       "4                            Veg Clear Soup         NaN    Chinese   \n",
       "\n",
       "                             engineeredName  \n",
       "0                 mutton shawarma in samoli  \n",
       "1                              veg shawarma  \n",
       "2     chicken shawarma with salad in rumali  \n",
       "3  chicken shawarma without salad in rumali  \n",
       "4                            veg clear soup  "
      ]
     },
     "execution_count": 12,
     "metadata": {},
     "output_type": "execute_result"
    }
   ],
   "source": [
    "df.head()"
   ]
  },
  {
   "cell_type": "code",
   "execution_count": 13,
   "metadata": {},
   "outputs": [],
   "source": [
    "# x : engineered names array\n",
    "x = df['engineeredName'].values\n",
    "\n",
    "# y : respective cuisine array\n",
    "y = df['cuisine'].values"
   ]
  },
  {
   "cell_type": "code",
   "execution_count": 14,
   "metadata": {},
   "outputs": [
    {
     "data": {
      "text/plain": [
       "((430259,), (107565,), (430259,), (107565,))"
      ]
     },
     "execution_count": 14,
     "metadata": {},
     "output_type": "execute_result"
    }
   ],
   "source": [
    "# train test split\n",
    "X_train, X_test, y_train, y_test = train_test_split(x, y, test_size=0.2, random_state=42)\n",
    "X_train.shape, X_test.shape, y_train.shape, y_test.shape"
   ]
  },
  {
   "cell_type": "code",
   "execution_count": 15,
   "metadata": {},
   "outputs": [],
   "source": [
    "# Multiple Models dataframe for performance analysis\n",
    "models = {}"
   ]
  },
  {
   "cell_type": "markdown",
   "metadata": {},
   "source": [
    "### Logistic Regression"
   ]
  },
  {
   "cell_type": "code",
   "execution_count": 16,
   "metadata": {},
   "outputs": [
    {
     "name": "stdout",
     "output_type": "stream",
     "text": [
      "Training Model LogisticRegression...\n",
      "Model Training completed in 0:00:44.790619\n"
     ]
    }
   ],
   "source": [
    "print(\"Training Model LogisticRegression...\")\n",
    "start = datetime.now()\n",
    "\n",
    "# Make pipeline\n",
    "lr = Pipeline([('tfidf', TfidfVectorizer(min_df=10)), # tfidf vectorizer to convert text array into a sparse matrix\n",
    "               ('clf', LogisticRegression(n_jobs=1, C=1e5)), # logistic regression classifier\n",
    "                ])\n",
    "\n",
    "# fit the model\n",
    "lr.fit(X_train, y_train) \n",
    "\n",
    "model_train_time = datetime.now() - start\n",
    "print('Model Training completed in {}'.format(model_train_time))"
   ]
  },
  {
   "cell_type": "code",
   "execution_count": 17,
   "metadata": {},
   "outputs": [
    {
     "name": "stdout",
     "output_type": "stream",
     "text": [
      "Model LogisticRegression Accuracy : 0.975\n"
     ]
    }
   ],
   "source": [
    "# make predictions on the test data , i.e., X_test\n",
    "y_pred = lr.predict(X_test)\n",
    "\n",
    "# Measure and print model accuracy\n",
    "models['Logistic Regression']  = np.round(accuracy_score(y_pred, y_test), 3)\n",
    "print('Model LogisticRegression Accuracy : {}'.format(models['Logistic Regression']))"
   ]
  },
  {
   "cell_type": "markdown",
   "metadata": {},
   "source": [
    "### Multinomial Naive Bayes"
   ]
  },
  {
   "cell_type": "code",
   "execution_count": 18,
   "metadata": {},
   "outputs": [
    {
     "name": "stdout",
     "output_type": "stream",
     "text": [
      "Training Model NaiveBayes...\n",
      "Model Training completed in 0:00:04.323907\n"
     ]
    }
   ],
   "source": [
    "print(\"Training Model NaiveBayes...\")\n",
    "start = datetime.now()\n",
    "\n",
    "# Make pipeline\n",
    "nb = Pipeline([('tfidf', TfidfVectorizer(min_df=10)),\n",
    "               ('clf', MultinomialNB()),\n",
    "                ])\n",
    "\n",
    "# fit the model\n",
    "nb.fit(X_train, y_train)\n",
    "\n",
    "model_train_time = datetime.now() - start\n",
    "print('Model Training completed in {}'.format(model_train_time))"
   ]
  },
  {
   "cell_type": "code",
   "execution_count": 19,
   "metadata": {},
   "outputs": [
    {
     "name": "stdout",
     "output_type": "stream",
     "text": [
      "Model NaiveBayes Accuracy : 0.922\n"
     ]
    }
   ],
   "source": [
    "# make predictions on the test data , i.e., X_test\n",
    "y_pred = nb.predict(X_test)\n",
    "\n",
    "# Measure and print model accuracy\n",
    "models['Naive Bayes']  = np.round(accuracy_score(y_pred, y_test), 3)\n",
    "print('Model NaiveBayes Accuracy : {}'.format(models['Naive Bayes']))"
   ]
  },
  {
   "cell_type": "markdown",
   "metadata": {},
   "source": [
    "### Random Forest"
   ]
  },
  {
   "cell_type": "code",
   "execution_count": 20,
   "metadata": {},
   "outputs": [
    {
     "name": "stdout",
     "output_type": "stream",
     "text": [
      "Training Model RandomForest...\n",
      "Model Training completed in 0:01:07.712986\n"
     ]
    }
   ],
   "source": [
    "print(\"Training Model RandomForest...\")\n",
    "start = datetime.now()\n",
    "\n",
    "# Make pipeline\n",
    "rf = Pipeline([('tfidf', TfidfVectorizer(min_df=10)),\n",
    "               ('clf', RandomForestClassifier(n_estimators=400, max_depth=8)),\n",
    "                ])\n",
    "\n",
    "# fit the model\n",
    "rf.fit(X_train, y_train)\n",
    "\n",
    "model_train_time = datetime.now() - start\n",
    "print('Model Training completed in {}'.format(model_train_time))"
   ]
  },
  {
   "cell_type": "code",
   "execution_count": 21,
   "metadata": {},
   "outputs": [
    {
     "name": "stdout",
     "output_type": "stream",
     "text": [
      "Model RandomForest Accuracy : 0.443\n"
     ]
    }
   ],
   "source": [
    "# make predictions on the test data , i.e., X_test\n",
    "y_pred = rf.predict(X_test)\n",
    "\n",
    "# Measure and print model accuracy\n",
    "models['Random Forest']  = np.round(accuracy_score(y_pred, y_test), 3)\n",
    "print('Model RandomForest Accuracy : {}'.format(models['Random Forest']))"
   ]
  },
  {
   "cell_type": "markdown",
   "metadata": {},
   "source": [
    "### Support Vector Machine"
   ]
  },
  {
   "cell_type": "code",
   "execution_count": 22,
   "metadata": {},
   "outputs": [
    {
     "name": "stdout",
     "output_type": "stream",
     "text": [
      "Training Model SupportVectorMachine...\n",
      "Model Training completed in 0:00:09.123460\n"
     ]
    }
   ],
   "source": [
    "print(\"Training Model SupportVectorMachine...\")\n",
    "start = datetime.now()\n",
    "\n",
    "# Make pipeline\n",
    "svm = Pipeline([('tfidf', TfidfVectorizer(min_df=10)),\n",
    "               ('clf', SGDClassifier(random_state=42)),\n",
    "                ])\n",
    "\n",
    "# fit the model\n",
    "svm.fit(X_train, y_train)\n",
    "\n",
    "model_train_time = datetime.now() - start\n",
    "print('Model Training completed in {}'.format(model_train_time))"
   ]
  },
  {
   "cell_type": "code",
   "execution_count": 23,
   "metadata": {},
   "outputs": [
    {
     "name": "stdout",
     "output_type": "stream",
     "text": [
      "Model SupportVectorMachine Accuracy : 0.958\n"
     ]
    }
   ],
   "source": [
    "# make predictions on the test data , i.e., X_test\n",
    "y_pred = svm.predict(X_test)\n",
    "\n",
    "# Measure and print model accuracy\n",
    "models['Support Vector Machine']  = np.round(accuracy_score(y_pred, y_test), 3)\n",
    "print('Model SupportVectorMachine Accuracy : {}'.format(models['Support Vector Machine']))"
   ]
  },
  {
   "cell_type": "markdown",
   "metadata": {},
   "source": [
    "## Model Performance Comparision"
   ]
  },
  {
   "cell_type": "code",
   "execution_count": 24,
   "metadata": {},
   "outputs": [
    {
     "data": {
      "text/html": [
       "<div>\n",
       "<style scoped>\n",
       "    .dataframe tbody tr th:only-of-type {\n",
       "        vertical-align: middle;\n",
       "    }\n",
       "\n",
       "    .dataframe tbody tr th {\n",
       "        vertical-align: top;\n",
       "    }\n",
       "\n",
       "    .dataframe thead th {\n",
       "        text-align: right;\n",
       "    }\n",
       "</style>\n",
       "<table border=\"1\" class=\"dataframe\">\n",
       "  <thead>\n",
       "    <tr style=\"text-align: right;\">\n",
       "      <th></th>\n",
       "      <th>Logistic Regression</th>\n",
       "      <th>Naive Bayes</th>\n",
       "      <th>Random Forest</th>\n",
       "      <th>Support Vector Machine</th>\n",
       "    </tr>\n",
       "  </thead>\n",
       "  <tbody>\n",
       "    <tr>\n",
       "      <th>Accuracy</th>\n",
       "      <td>0.975</td>\n",
       "      <td>0.922</td>\n",
       "      <td>0.443</td>\n",
       "      <td>0.958</td>\n",
       "    </tr>\n",
       "  </tbody>\n",
       "</table>\n",
       "</div>"
      ],
      "text/plain": [
       "          Logistic Regression  Naive Bayes  Random Forest  \\\n",
       "Accuracy                0.975        0.922          0.443   \n",
       "\n",
       "          Support Vector Machine  \n",
       "Accuracy                   0.958  "
      ]
     },
     "execution_count": 24,
     "metadata": {},
     "output_type": "execute_result"
    }
   ],
   "source": [
    "pd.DataFrame(models, index=['Accuracy'])"
   ]
  },
  {
   "cell_type": "markdown",
   "metadata": {},
   "source": [
    "#### From the above results, we can select the Logistic Regression model as the best classifier with an accuracy of 97.5%"
   ]
  },
  {
   "cell_type": "code",
   "execution_count": 25,
   "metadata": {},
   "outputs": [],
   "source": [
    "#FINAL MODEL\n",
    "text_classifier_model = lr"
   ]
  },
  {
   "cell_type": "code",
   "execution_count": 26,
   "metadata": {},
   "outputs": [
    {
     "name": "stdout",
     "output_type": "stream",
     "text": [
      "Accuracy score:  0.9746107005066704\n",
      "Precision score:  0.9624725459415823\n",
      "Recall score:  0.9678355539425282\n"
     ]
    }
   ],
   "source": [
    "y_pred = text_classifier_model.predict(X_test)\n",
    "print(\"Accuracy score: \", accuracy_score(y_pred, y_test))\n",
    "print(\"Precision score: \", precision_score(y_pred, y_test, average='macro'))\n",
    "print(\"Recall score: \", recall_score(y_pred, y_test, average='macro'))"
   ]
  },
  {
   "cell_type": "markdown",
   "metadata": {},
   "source": [
    "### Classification report of each category for the Logistic Regression Model"
   ]
  },
  {
   "cell_type": "code",
   "execution_count": 27,
   "metadata": {},
   "outputs": [
    {
     "data": {
      "text/html": [
       "<div>\n",
       "<style scoped>\n",
       "    .dataframe tbody tr th:only-of-type {\n",
       "        vertical-align: middle;\n",
       "    }\n",
       "\n",
       "    .dataframe tbody tr th {\n",
       "        vertical-align: top;\n",
       "    }\n",
       "\n",
       "    .dataframe thead th {\n",
       "        text-align: right;\n",
       "    }\n",
       "</style>\n",
       "<table border=\"1\" class=\"dataframe\">\n",
       "  <thead>\n",
       "    <tr style=\"text-align: right;\">\n",
       "      <th></th>\n",
       "      <th>Fast Food</th>\n",
       "      <th>Chinese</th>\n",
       "      <th>Chicken</th>\n",
       "      <th>North Indian</th>\n",
       "      <th>Italian</th>\n",
       "      <th>Desserts</th>\n",
       "      <th>Bakery</th>\n",
       "      <th>Beverages</th>\n",
       "      <th>Eggetarian</th>\n",
       "      <th>South Indian</th>\n",
       "      <th>Biryani</th>\n",
       "      <th>Ice Cream</th>\n",
       "      <th>accuracy</th>\n",
       "      <th>macro avg</th>\n",
       "      <th>weighted avg</th>\n",
       "    </tr>\n",
       "  </thead>\n",
       "  <tbody>\n",
       "    <tr>\n",
       "      <th>precision</th>\n",
       "      <td>0.968652</td>\n",
       "      <td>0.993142</td>\n",
       "      <td>0.988642</td>\n",
       "      <td>0.903093</td>\n",
       "      <td>0.972750</td>\n",
       "      <td>0.968311</td>\n",
       "      <td>0.955882</td>\n",
       "      <td>0.974301</td>\n",
       "      <td>0.969584</td>\n",
       "      <td>0.984398</td>\n",
       "      <td>0.974180</td>\n",
       "      <td>0.961091</td>\n",
       "      <td>0.974611</td>\n",
       "      <td>0.967836</td>\n",
       "      <td>0.974479</td>\n",
       "    </tr>\n",
       "    <tr>\n",
       "      <th>recall</th>\n",
       "      <td>0.970759</td>\n",
       "      <td>0.993367</td>\n",
       "      <td>0.994776</td>\n",
       "      <td>0.851995</td>\n",
       "      <td>0.961460</td>\n",
       "      <td>0.947170</td>\n",
       "      <td>0.935252</td>\n",
       "      <td>0.981747</td>\n",
       "      <td>0.975640</td>\n",
       "      <td>0.990538</td>\n",
       "      <td>0.973750</td>\n",
       "      <td>0.973217</td>\n",
       "      <td>0.974611</td>\n",
       "      <td>0.962473</td>\n",
       "      <td>0.974611</td>\n",
       "    </tr>\n",
       "    <tr>\n",
       "      <th>f1-score</th>\n",
       "      <td>0.969704</td>\n",
       "      <td>0.993254</td>\n",
       "      <td>0.991699</td>\n",
       "      <td>0.876800</td>\n",
       "      <td>0.967072</td>\n",
       "      <td>0.957624</td>\n",
       "      <td>0.945455</td>\n",
       "      <td>0.978010</td>\n",
       "      <td>0.972603</td>\n",
       "      <td>0.987458</td>\n",
       "      <td>0.973965</td>\n",
       "      <td>0.967116</td>\n",
       "      <td>0.974611</td>\n",
       "      <td>0.965063</td>\n",
       "      <td>0.974504</td>\n",
       "    </tr>\n",
       "    <tr>\n",
       "      <th>support</th>\n",
       "      <td>4138.000000</td>\n",
       "      <td>17639.000000</td>\n",
       "      <td>6125.000000</td>\n",
       "      <td>3358.000000</td>\n",
       "      <td>11287.000000</td>\n",
       "      <td>3710.000000</td>\n",
       "      <td>1390.000000</td>\n",
       "      <td>31666.000000</td>\n",
       "      <td>1601.000000</td>\n",
       "      <td>4650.000000</td>\n",
       "      <td>13600.000000</td>\n",
       "      <td>8401.000000</td>\n",
       "      <td>0.974611</td>\n",
       "      <td>107565.000000</td>\n",
       "      <td>107565.000000</td>\n",
       "    </tr>\n",
       "  </tbody>\n",
       "</table>\n",
       "</div>"
      ],
      "text/plain": [
       "             Fast Food       Chinese      Chicken  North Indian       Italian  \\\n",
       "precision     0.968652      0.993142     0.988642      0.903093      0.972750   \n",
       "recall        0.970759      0.993367     0.994776      0.851995      0.961460   \n",
       "f1-score      0.969704      0.993254     0.991699      0.876800      0.967072   \n",
       "support    4138.000000  17639.000000  6125.000000   3358.000000  11287.000000   \n",
       "\n",
       "              Desserts       Bakery     Beverages   Eggetarian  South Indian  \\\n",
       "precision     0.968311     0.955882      0.974301     0.969584      0.984398   \n",
       "recall        0.947170     0.935252      0.981747     0.975640      0.990538   \n",
       "f1-score      0.957624     0.945455      0.978010     0.972603      0.987458   \n",
       "support    3710.000000  1390.000000  31666.000000  1601.000000   4650.000000   \n",
       "\n",
       "                Biryani    Ice Cream  accuracy      macro avg   weighted avg  \n",
       "precision      0.974180     0.961091  0.974611       0.967836       0.974479  \n",
       "recall         0.973750     0.973217  0.974611       0.962473       0.974611  \n",
       "f1-score       0.973965     0.967116  0.974611       0.965063       0.974504  \n",
       "support    13600.000000  8401.000000  0.974611  107565.000000  107565.000000  "
      ]
     },
     "execution_count": 27,
     "metadata": {},
     "output_type": "execute_result"
    }
   ],
   "source": [
    "target_tags = df['cuisine'].unique().tolist()\n",
    "class_report_df = pd.DataFrame(classification_report(y_test, lr.predict(X_test), target_names=target_tags, output_dict=True))\n",
    "class_report_df"
   ]
  },
  {
   "cell_type": "markdown",
   "metadata": {},
   "source": [
    "# Conclusion"
   ]
  },
  {
   "cell_type": "markdown",
   "metadata": {},
   "source": [
    "### Making predictions for menu items using the Model"
   ]
  },
  {
   "cell_type": "code",
   "execution_count": 28,
   "metadata": {},
   "outputs": [
    {
     "name": "stdout",
     "output_type": "stream",
     "text": [
      "Item: ['mango milkshake']\n",
      "Cuisine: ['Beverages']\n"
     ]
    }
   ],
   "source": [
    "# input any item for demonstrating model output : eg: mango milkshake\n",
    "item = ['mango milkshake']\n",
    "\n",
    "# make model prediction on the input item\n",
    "cuisine = svm.predict(np.array(item)).tolist()\n",
    "\n",
    "# print results\n",
    "print(\"Item: {}\".format(item))\n",
    "print(\"Cuisine: {}\".format(cuisine))"
   ]
  },
  {
   "cell_type": "markdown",
   "metadata": {},
   "source": [
    "#### More complicated inputs"
   ]
  },
  {
   "cell_type": "code",
   "execution_count": 29,
   "metadata": {},
   "outputs": [
    {
     "name": "stdout",
     "output_type": "stream",
     "text": [
      "Item: ['pizza dosa', 'egg fried rice', 'samosa chutney', 'chicken biryani with 2 pcs']\n",
      "Cuisine: ['South Indian', 'Fast Food', 'Fast Food', 'Biryani']\n"
     ]
    }
   ],
   "source": [
    "# input in list form\n",
    "item = ['pizza dosa', 'egg fried rice', 'samosa chutney', 'chicken biryani with 2 pcs']\n",
    "\n",
    "cuisine = svm.predict(np.array(item)).tolist()\n",
    "\n",
    "print(\"Item: {}\".format(item))\n",
    "print(\"Cuisine: {}\".format(cuisine))"
   ]
  }
 ],
 "metadata": {
  "kernelspec": {
   "display_name": "Python 3",
   "language": "python",
   "name": "python3"
  },
  "language_info": {
   "codemirror_mode": {
    "name": "ipython",
    "version": 3
   },
   "file_extension": ".py",
   "mimetype": "text/x-python",
   "name": "python",
   "nbconvert_exporter": "python",
   "pygments_lexer": "ipython3",
   "version": "3.7.4"
  }
 },
 "nbformat": 4,
 "nbformat_minor": 4
}
